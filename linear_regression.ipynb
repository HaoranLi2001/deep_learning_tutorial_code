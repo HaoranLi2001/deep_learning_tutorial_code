{
 "cells": [
  {
   "cell_type": "code",
   "execution_count": 16,
   "id": "4904291f-9e31-4a52-ad33-c9bad3fa05d8",
   "metadata": {},
   "outputs": [
    {
     "name": "stdout",
     "output_type": "stream",
     "text": [
      "epochs: 0, loss: 0.118243\n",
      "epochs: 1, loss: 0.001927\n",
      "epochs: 2, loss: 0.000089\n"
     ]
    }
   ],
   "source": [
    "%matplotlib inline\n",
    "import random\n",
    "import torch\n",
    "\n",
    "batch_size = 20\n",
    "epoch = 3\n",
    "\n",
    "def generate_new_data(w,b,number_examples):\n",
    "  x=torch.normal(mean=0,std=1, size=(number_examples,len(w)))\n",
    "  y=torch.matmul(x,w)+b\n",
    "  d=torch.normal(0,0.01,size=(y.shape))\n",
    "\n",
    "  return x, (y+d).reshape(-1,1)\n",
    "\n",
    "true_w=torch.tensor([2,-3.4])\n",
    "true_b=4.2\n",
    "x, y=generate_new_data(true_w,true_b,100) # generate 100 data\n",
    "\n",
    "# initialize parameters\n",
    "w = torch.normal(0,0.01,(2,1),requires_grad=True)\n",
    "b = torch.zeros(1,requires_grad=True)\n",
    "\n",
    "# split into mini batch\n",
    "def data_iter(x, y, batch_size, total_number):\n",
    "    indices = list(range(total_number))\n",
    "    random.shuffle(indices)\n",
    "    for i in range(0,total_number,batch_size):\n",
    "        batch_indices = torch.tensor(\n",
    "            indices[i: min(i+batch_size,total_number)]\n",
    "        )\n",
    "        yield x[batch_indices], y[batch_indices]\n",
    "        \n",
    "# model\n",
    "def linear(w,b,x):\n",
    "    return torch.matmul(x,w)+b\n",
    "\n",
    "# loss fcn\n",
    "def square_loss(y, y_hat):\n",
    "    return (y-y_hat.reshape(y.shape)) ** 2 / 2\n",
    "\n",
    "# parameters update using sgd\n",
    "def sgd(params, lr):\n",
    "    with torch.no_grad():\n",
    "        for param in params:\n",
    "            param -= lr * param.grad\n",
    "            param.grad.zero_()\n",
    "# train\n",
    "def linear_train(x, y, epochs, batch_size, w, b):\n",
    "    for epoch in range(epochs):\n",
    "        for x_mini, y_mini in data_iter(x, y, batch_size, 100):\n",
    "            y_hat = linear(w,b,x_mini)\n",
    "            l = square_loss(y_mini, y_hat)\n",
    "            l.sum().backward()\n",
    "            sgd([w,b],0.02)\n",
    "        with torch.no_grad():\n",
    "            train_loss = square_loss(y, linear(w,b,x))\n",
    "            print(f'epochs: {epoch}, loss: {float(train_loss.mean()):f}')\n",
    "\n",
    "linear_train(x, y, epoch, batch_size, w, b)\n"
   ]
  }
 ],
 "metadata": {
  "kernelspec": {
   "display_name": "Python 3 (ipykernel)",
   "language": "python",
   "name": "python3"
  },
  "language_info": {
   "codemirror_mode": {
    "name": "ipython",
    "version": 3
   },
   "file_extension": ".py",
   "mimetype": "text/x-python",
   "name": "python",
   "nbconvert_exporter": "python",
   "pygments_lexer": "ipython3",
   "version": "3.10.13"
  }
 },
 "nbformat": 4,
 "nbformat_minor": 5
}
