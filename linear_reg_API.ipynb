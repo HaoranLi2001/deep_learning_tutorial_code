{
 "cells": [
  {
   "cell_type": "code",
   "execution_count": 18,
   "id": "4904291f-9e31-4a52-ad33-c9bad3fa05d8",
   "metadata": {},
   "outputs": [
    {
     "name": "stdout",
     "output_type": "stream",
     "text": [
      "epochs: 1, loss: 0.492223\n",
      "epochs: 2, loss: 0.017633\n",
      "epochs: 3, loss: 0.000731\n"
     ]
    }
   ],
   "source": [
    "import numpy as np\n",
    "import torch\n",
    "from torch.utils import data\n",
    "from d2l import torch as d2l\n",
    "from torch import nn\n",
    "\n",
    "true_w=torch.tensor([-3.,2.])\n",
    "true_b=1.\n",
    "features, labels=d2l.synthetic_data(true_w,true_b,1000)\n",
    "\n",
    "def data_iter(data_arrays, batch_size, shuffle=True):\n",
    "    dataset=data.TensorDataset(*data_arrays)\n",
    "    return data.DataLoader(dataset, batch_size, shuffle=shuffle)\n",
    "\n",
    "data_iter = data_iter([features, labels], 50, True)\n",
    "next(iter(data_iter))\n",
    "\n",
    "# model\n",
    "net = nn.Sequential(nn.Linear(2,1))\n",
    "net[0].weight.data.normal_(0,0.01)\n",
    "net[0].bias.data.fill_(0)\n",
    "\n",
    "loss = nn.MSELoss()\n",
    "\n",
    "trainer = torch.optim.SGD(net.parameters(),lr=0.04)\n",
    "\n",
    "# train\n",
    "num_epochs=3\n",
    "for epoch in range(num_epochs):\n",
    "    for x,y in data_iter:\n",
    "        l = loss(net(x), y)\n",
    "        trainer.zero_grad()\n",
    "        l.backward()\n",
    "        trainer.step()\n",
    "    l=loss(net(features), labels)\n",
    "    print(f'epochs: {epoch+1}, loss: {l:f}')\n",
    "        "
   ]
  }
 ],
 "metadata": {
  "kernelspec": {
   "display_name": "Python 3 (ipykernel)",
   "language": "python",
   "name": "python3"
  },
  "language_info": {
   "codemirror_mode": {
    "name": "ipython",
    "version": 3
   },
   "file_extension": ".py",
   "mimetype": "text/x-python",
   "name": "python",
   "nbconvert_exporter": "python",
   "pygments_lexer": "ipython3",
   "version": "3.9.20"
  }
 },
 "nbformat": 4,
 "nbformat_minor": 5
}
